{
 "cells": [
  {
   "cell_type": "markdown",
   "id": "721723f6",
   "metadata": {},
   "source": [
    "# Deriving New Variables"
   ]
  },
  {
   "cell_type": "markdown",
   "id": "0c35e09d",
   "metadata": {},
   "source": [
    "## Objective of Script"
   ]
  },
  {
   "cell_type": "code",
   "execution_count": null,
   "id": "ff1a3dfa",
   "metadata": {},
   "outputs": [],
   "source": [
    "# 1. Derive new variables using if-statements and for-loops\n",
    "# 2. User-Defined function to sort the products into price ranges with IF-statement\n",
    "# 3. User-Defined function to sort the products into price ranges with loc()\n",
    "# 4. Determine how busy each day of the week is using For-loop"
   ]
  },
  {
   "cell_type": "markdown",
   "id": "de3c188d",
   "metadata": {},
   "source": [
    "## 01. Import Libraries"
   ]
  },
  {
   "cell_type": "code",
   "execution_count": 1,
   "id": "6d95d279",
   "metadata": {},
   "outputs": [],
   "source": [
    "# Importing libraries \n",
    "\n",
    "import pandas as pd\n",
    "import numpy as np\n",
    "import os"
   ]
  },
  {
   "cell_type": "markdown",
   "id": "5a593380",
   "metadata": {},
   "source": [
    "## 02. Import Dataframes"
   ]
  },
  {
   "cell_type": "code",
   "execution_count": 2,
   "id": "a60c21df",
   "metadata": {},
   "outputs": [],
   "source": [
    "# Import dataframe, creating shortcut to data file\n",
    "\n",
    "path = r'/Users/tatumzeliadt/Library/CloudStorage/OneDrive-Personal/Data Analytics/Data Immersion/4 Achievement 4 Python Fundamentals for Data Analysts/Instacart Basket Analysis'"
   ]
  },
  {
   "cell_type": "code",
   "execution_count": 3,
   "id": "2285899c",
   "metadata": {},
   "outputs": [
    {
     "data": {
      "text/plain": [
       "'/Users/tatumzeliadt/Library/CloudStorage/OneDrive-Personal/Data Analytics/Data Immersion/4 Achievement 4 Python Fundamentals for Data Analysts/Instacart Basket Analysis'"
      ]
     },
     "execution_count": 3,
     "metadata": {},
     "output_type": "execute_result"
    }
   ],
   "source": [
    "# Verify shortcut path\n",
    "\n",
    "path"
   ]
  },
  {
   "cell_type": "code",
   "execution_count": 4,
   "id": "779ca575",
   "metadata": {},
   "outputs": [],
   "source": [
    "# Import dataframe orders_products_merged using path shortcut from Prepared Data folder\n",
    "\n",
    "df_orders_products_merged = pd.read_pickle(os.path.join(path, 'Data', 'Prepared Data', 'orders_products_merged.pkl'))"
   ]
  },
  {
   "cell_type": "markdown",
   "id": "7f721ca9",
   "metadata": {},
   "source": [
    "## 03. Creating subset of dataframe"
   ]
  },
  {
   "cell_type": "code",
   "execution_count": 8,
   "id": "4fdaeee9",
   "metadata": {},
   "outputs": [],
   "source": [
    "# Create subset to only view first 1000000 rows in large pickle file\n",
    "\n",
    "df = df_orders_products_merged[:1000000]"
   ]
  },
  {
   "cell_type": "markdown",
   "id": "bd9f0b96",
   "metadata": {},
   "source": [
    "## 04. Dimension Check"
   ]
  },
  {
   "cell_type": "code",
   "execution_count": 9,
   "id": "3fdcb7f1",
   "metadata": {},
   "outputs": [
    {
     "data": {
      "text/plain": [
       "(32404859, 14)"
      ]
     },
     "execution_count": 9,
     "metadata": {},
     "output_type": "execute_result"
    }
   ],
   "source": [
    "# Dimension check of orders_products_merged dataset\n",
    "\n",
    "df_orders_products_merged.shape"
   ]
  },
  {
   "cell_type": "code",
   "execution_count": 10,
   "id": "4df7ed65",
   "metadata": {},
   "outputs": [
    {
     "data": {
      "text/html": [
       "<div>\n",
       "<style scoped>\n",
       "    .dataframe tbody tr th:only-of-type {\n",
       "        vertical-align: middle;\n",
       "    }\n",
       "\n",
       "    .dataframe tbody tr th {\n",
       "        vertical-align: top;\n",
       "    }\n",
       "\n",
       "    .dataframe thead th {\n",
       "        text-align: right;\n",
       "    }\n",
       "</style>\n",
       "<table border=\"1\" class=\"dataframe\">\n",
       "  <thead>\n",
       "    <tr style=\"text-align: right;\">\n",
       "      <th></th>\n",
       "      <th>order_id</th>\n",
       "      <th>user_id</th>\n",
       "      <th>order_number</th>\n",
       "      <th>orders_day_of_week</th>\n",
       "      <th>order_hour_of_day</th>\n",
       "      <th>days_since_prior_order</th>\n",
       "      <th>product_id</th>\n",
       "      <th>add_to_cart_order</th>\n",
       "      <th>reordered</th>\n",
       "      <th>product_name</th>\n",
       "      <th>aisle_id</th>\n",
       "      <th>department_id</th>\n",
       "      <th>prices</th>\n",
       "      <th>_merge</th>\n",
       "    </tr>\n",
       "  </thead>\n",
       "  <tbody>\n",
       "    <tr>\n",
       "      <th>0</th>\n",
       "      <td>2539329</td>\n",
       "      <td>1</td>\n",
       "      <td>1</td>\n",
       "      <td>2</td>\n",
       "      <td>8</td>\n",
       "      <td>NaN</td>\n",
       "      <td>196</td>\n",
       "      <td>1</td>\n",
       "      <td>0</td>\n",
       "      <td>Soda</td>\n",
       "      <td>77</td>\n",
       "      <td>7</td>\n",
       "      <td>9.0</td>\n",
       "      <td>both</td>\n",
       "    </tr>\n",
       "    <tr>\n",
       "      <th>1</th>\n",
       "      <td>2398795</td>\n",
       "      <td>1</td>\n",
       "      <td>2</td>\n",
       "      <td>3</td>\n",
       "      <td>7</td>\n",
       "      <td>15.0</td>\n",
       "      <td>196</td>\n",
       "      <td>1</td>\n",
       "      <td>1</td>\n",
       "      <td>Soda</td>\n",
       "      <td>77</td>\n",
       "      <td>7</td>\n",
       "      <td>9.0</td>\n",
       "      <td>both</td>\n",
       "    </tr>\n",
       "    <tr>\n",
       "      <th>2</th>\n",
       "      <td>473747</td>\n",
       "      <td>1</td>\n",
       "      <td>3</td>\n",
       "      <td>3</td>\n",
       "      <td>12</td>\n",
       "      <td>21.0</td>\n",
       "      <td>196</td>\n",
       "      <td>1</td>\n",
       "      <td>1</td>\n",
       "      <td>Soda</td>\n",
       "      <td>77</td>\n",
       "      <td>7</td>\n",
       "      <td>9.0</td>\n",
       "      <td>both</td>\n",
       "    </tr>\n",
       "    <tr>\n",
       "      <th>3</th>\n",
       "      <td>2254736</td>\n",
       "      <td>1</td>\n",
       "      <td>4</td>\n",
       "      <td>4</td>\n",
       "      <td>7</td>\n",
       "      <td>29.0</td>\n",
       "      <td>196</td>\n",
       "      <td>1</td>\n",
       "      <td>1</td>\n",
       "      <td>Soda</td>\n",
       "      <td>77</td>\n",
       "      <td>7</td>\n",
       "      <td>9.0</td>\n",
       "      <td>both</td>\n",
       "    </tr>\n",
       "    <tr>\n",
       "      <th>4</th>\n",
       "      <td>431534</td>\n",
       "      <td>1</td>\n",
       "      <td>5</td>\n",
       "      <td>4</td>\n",
       "      <td>15</td>\n",
       "      <td>28.0</td>\n",
       "      <td>196</td>\n",
       "      <td>1</td>\n",
       "      <td>1</td>\n",
       "      <td>Soda</td>\n",
       "      <td>77</td>\n",
       "      <td>7</td>\n",
       "      <td>9.0</td>\n",
       "      <td>both</td>\n",
       "    </tr>\n",
       "  </tbody>\n",
       "</table>\n",
       "</div>"
      ],
      "text/plain": [
       "   order_id  user_id  order_number  orders_day_of_week  order_hour_of_day  \\\n",
       "0   2539329        1             1                   2                  8   \n",
       "1   2398795        1             2                   3                  7   \n",
       "2    473747        1             3                   3                 12   \n",
       "3   2254736        1             4                   4                  7   \n",
       "4    431534        1             5                   4                 15   \n",
       "\n",
       "   days_since_prior_order  product_id  add_to_cart_order  reordered  \\\n",
       "0                     NaN         196                  1          0   \n",
       "1                    15.0         196                  1          1   \n",
       "2                    21.0         196                  1          1   \n",
       "3                    29.0         196                  1          1   \n",
       "4                    28.0         196                  1          1   \n",
       "\n",
       "  product_name  aisle_id  department_id  prices _merge  \n",
       "0         Soda        77              7     9.0   both  \n",
       "1         Soda        77              7     9.0   both  \n",
       "2         Soda        77              7     9.0   both  \n",
       "3         Soda        77              7     9.0   both  \n",
       "4         Soda        77              7     9.0   both  "
      ]
     },
     "execution_count": 10,
     "metadata": {},
     "output_type": "execute_result"
    }
   ],
   "source": [
    "# Check first five rows of orders_products_merged dataset\n",
    "\n",
    "df_orders_products_merged.head()"
   ]
  },
  {
   "cell_type": "code",
   "execution_count": 11,
   "id": "a9131eaa",
   "metadata": {},
   "outputs": [
    {
     "data": {
      "text/html": [
       "<div>\n",
       "<style scoped>\n",
       "    .dataframe tbody tr th:only-of-type {\n",
       "        vertical-align: middle;\n",
       "    }\n",
       "\n",
       "    .dataframe tbody tr th {\n",
       "        vertical-align: top;\n",
       "    }\n",
       "\n",
       "    .dataframe thead th {\n",
       "        text-align: right;\n",
       "    }\n",
       "</style>\n",
       "<table border=\"1\" class=\"dataframe\">\n",
       "  <thead>\n",
       "    <tr style=\"text-align: right;\">\n",
       "      <th></th>\n",
       "      <th>order_id</th>\n",
       "      <th>user_id</th>\n",
       "      <th>order_number</th>\n",
       "      <th>orders_day_of_week</th>\n",
       "      <th>order_hour_of_day</th>\n",
       "      <th>days_since_prior_order</th>\n",
       "      <th>product_id</th>\n",
       "      <th>add_to_cart_order</th>\n",
       "      <th>reordered</th>\n",
       "      <th>product_name</th>\n",
       "      <th>aisle_id</th>\n",
       "      <th>department_id</th>\n",
       "      <th>prices</th>\n",
       "      <th>_merge</th>\n",
       "    </tr>\n",
       "  </thead>\n",
       "  <tbody>\n",
       "    <tr>\n",
       "      <th>32404854</th>\n",
       "      <td>1320836</td>\n",
       "      <td>202557</td>\n",
       "      <td>17</td>\n",
       "      <td>2</td>\n",
       "      <td>15</td>\n",
       "      <td>1.0</td>\n",
       "      <td>43553</td>\n",
       "      <td>2</td>\n",
       "      <td>1</td>\n",
       "      <td>Orange Energy Shots</td>\n",
       "      <td>64</td>\n",
       "      <td>7</td>\n",
       "      <td>3.7</td>\n",
       "      <td>both</td>\n",
       "    </tr>\n",
       "    <tr>\n",
       "      <th>32404855</th>\n",
       "      <td>31526</td>\n",
       "      <td>202557</td>\n",
       "      <td>18</td>\n",
       "      <td>5</td>\n",
       "      <td>11</td>\n",
       "      <td>3.0</td>\n",
       "      <td>43553</td>\n",
       "      <td>2</td>\n",
       "      <td>1</td>\n",
       "      <td>Orange Energy Shots</td>\n",
       "      <td>64</td>\n",
       "      <td>7</td>\n",
       "      <td>3.7</td>\n",
       "      <td>both</td>\n",
       "    </tr>\n",
       "    <tr>\n",
       "      <th>32404856</th>\n",
       "      <td>758936</td>\n",
       "      <td>203436</td>\n",
       "      <td>1</td>\n",
       "      <td>2</td>\n",
       "      <td>7</td>\n",
       "      <td>NaN</td>\n",
       "      <td>42338</td>\n",
       "      <td>4</td>\n",
       "      <td>0</td>\n",
       "      <td>Zucchini Chips, Pesto</td>\n",
       "      <td>50</td>\n",
       "      <td>19</td>\n",
       "      <td>6.9</td>\n",
       "      <td>both</td>\n",
       "    </tr>\n",
       "    <tr>\n",
       "      <th>32404857</th>\n",
       "      <td>2745165</td>\n",
       "      <td>203436</td>\n",
       "      <td>2</td>\n",
       "      <td>3</td>\n",
       "      <td>5</td>\n",
       "      <td>15.0</td>\n",
       "      <td>42338</td>\n",
       "      <td>16</td>\n",
       "      <td>1</td>\n",
       "      <td>Zucchini Chips, Pesto</td>\n",
       "      <td>50</td>\n",
       "      <td>19</td>\n",
       "      <td>6.9</td>\n",
       "      <td>both</td>\n",
       "    </tr>\n",
       "    <tr>\n",
       "      <th>32404858</th>\n",
       "      <td>3093936</td>\n",
       "      <td>205420</td>\n",
       "      <td>1</td>\n",
       "      <td>4</td>\n",
       "      <td>14</td>\n",
       "      <td>NaN</td>\n",
       "      <td>28818</td>\n",
       "      <td>8</td>\n",
       "      <td>0</td>\n",
       "      <td>Hot Oatmeal Multigrain Raisin</td>\n",
       "      <td>130</td>\n",
       "      <td>14</td>\n",
       "      <td>10.3</td>\n",
       "      <td>both</td>\n",
       "    </tr>\n",
       "  </tbody>\n",
       "</table>\n",
       "</div>"
      ],
      "text/plain": [
       "          order_id  user_id  order_number  orders_day_of_week  \\\n",
       "32404854   1320836   202557            17                   2   \n",
       "32404855     31526   202557            18                   5   \n",
       "32404856    758936   203436             1                   2   \n",
       "32404857   2745165   203436             2                   3   \n",
       "32404858   3093936   205420             1                   4   \n",
       "\n",
       "          order_hour_of_day  days_since_prior_order  product_id  \\\n",
       "32404854                 15                     1.0       43553   \n",
       "32404855                 11                     3.0       43553   \n",
       "32404856                  7                     NaN       42338   \n",
       "32404857                  5                    15.0       42338   \n",
       "32404858                 14                     NaN       28818   \n",
       "\n",
       "          add_to_cart_order  reordered                   product_name  \\\n",
       "32404854                  2          1            Orange Energy Shots   \n",
       "32404855                  2          1            Orange Energy Shots   \n",
       "32404856                  4          0          Zucchini Chips, Pesto   \n",
       "32404857                 16          1          Zucchini Chips, Pesto   \n",
       "32404858                  8          0  Hot Oatmeal Multigrain Raisin   \n",
       "\n",
       "          aisle_id  department_id  prices _merge  \n",
       "32404854        64              7     3.7   both  \n",
       "32404855        64              7     3.7   both  \n",
       "32404856        50             19     6.9   both  \n",
       "32404857        50             19     6.9   both  \n",
       "32404858       130             14    10.3   both  "
      ]
     },
     "execution_count": 11,
     "metadata": {},
     "output_type": "execute_result"
    }
   ],
   "source": [
    "# Check last five rows of orders_products_merged dataset\n",
    "\n",
    "df_orders_products_merged.tail()"
   ]
  },
  {
   "cell_type": "code",
   "execution_count": 12,
   "id": "a7a067a9",
   "metadata": {
    "scrolled": true
   },
   "outputs": [
    {
     "name": "stdout",
     "output_type": "stream",
     "text": [
      "<class 'pandas.core.frame.DataFrame'>\n",
      "Int64Index: 32404859 entries, 0 to 32404858\n",
      "Data columns (total 14 columns):\n",
      " #   Column                  Dtype   \n",
      "---  ------                  -----   \n",
      " 0   order_id                int64   \n",
      " 1   user_id                 int64   \n",
      " 2   order_number            int64   \n",
      " 3   orders_day_of_week      int64   \n",
      " 4   order_hour_of_day       int64   \n",
      " 5   days_since_prior_order  float64 \n",
      " 6   product_id              int64   \n",
      " 7   add_to_cart_order       int64   \n",
      " 8   reordered               int64   \n",
      " 9   product_name            object  \n",
      " 10  aisle_id                int64   \n",
      " 11  department_id           int64   \n",
      " 12  prices                  float64 \n",
      " 13  _merge                  category\n",
      "dtypes: category(1), float64(2), int64(10), object(1)\n",
      "memory usage: 3.4+ GB\n"
     ]
    }
   ],
   "source": [
    "# Dataframe information of orders_products_merged dataset\n",
    "\n",
    "df_orders_products_merged.info()"
   ]
  },
  {
   "cell_type": "code",
   "execution_count": 14,
   "id": "59ba97df",
   "metadata": {},
   "outputs": [
    {
     "data": {
      "text/html": [
       "<div>\n",
       "<style scoped>\n",
       "    .dataframe tbody tr th:only-of-type {\n",
       "        vertical-align: middle;\n",
       "    }\n",
       "\n",
       "    .dataframe tbody tr th {\n",
       "        vertical-align: top;\n",
       "    }\n",
       "\n",
       "    .dataframe thead th {\n",
       "        text-align: right;\n",
       "    }\n",
       "</style>\n",
       "<table border=\"1\" class=\"dataframe\">\n",
       "  <thead>\n",
       "    <tr style=\"text-align: right;\">\n",
       "      <th></th>\n",
       "      <th>order_id</th>\n",
       "      <th>user_id</th>\n",
       "      <th>order_number</th>\n",
       "      <th>orders_day_of_week</th>\n",
       "      <th>order_hour_of_day</th>\n",
       "      <th>days_since_prior_order</th>\n",
       "      <th>product_id</th>\n",
       "      <th>add_to_cart_order</th>\n",
       "      <th>reordered</th>\n",
       "      <th>aisle_id</th>\n",
       "      <th>department_id</th>\n",
       "      <th>prices</th>\n",
       "    </tr>\n",
       "  </thead>\n",
       "  <tbody>\n",
       "    <tr>\n",
       "      <th>count</th>\n",
       "      <td>3.240486e+07</td>\n",
       "      <td>3.240486e+07</td>\n",
       "      <td>3.240486e+07</td>\n",
       "      <td>3.240486e+07</td>\n",
       "      <td>3.240486e+07</td>\n",
       "      <td>3.032876e+07</td>\n",
       "      <td>3.240486e+07</td>\n",
       "      <td>3.240486e+07</td>\n",
       "      <td>3.240486e+07</td>\n",
       "      <td>3.240486e+07</td>\n",
       "      <td>3.240486e+07</td>\n",
       "      <td>3.240486e+07</td>\n",
       "    </tr>\n",
       "    <tr>\n",
       "      <th>mean</th>\n",
       "      <td>1.710745e+06</td>\n",
       "      <td>1.029372e+05</td>\n",
       "      <td>1.714230e+01</td>\n",
       "      <td>2.738867e+00</td>\n",
       "      <td>1.342515e+01</td>\n",
       "      <td>1.110408e+01</td>\n",
       "      <td>2.559866e+04</td>\n",
       "      <td>8.352547e+00</td>\n",
       "      <td>5.895873e-01</td>\n",
       "      <td>7.119612e+01</td>\n",
       "      <td>9.919792e+00</td>\n",
       "      <td>1.198023e+01</td>\n",
       "    </tr>\n",
       "    <tr>\n",
       "      <th>std</th>\n",
       "      <td>9.872988e+05</td>\n",
       "      <td>5.946610e+04</td>\n",
       "      <td>1.753532e+01</td>\n",
       "      <td>2.090077e+00</td>\n",
       "      <td>4.246380e+00</td>\n",
       "      <td>8.779064e+00</td>\n",
       "      <td>1.408400e+04</td>\n",
       "      <td>7.127071e+00</td>\n",
       "      <td>4.919087e-01</td>\n",
       "      <td>3.821139e+01</td>\n",
       "      <td>6.281485e+00</td>\n",
       "      <td>4.956554e+02</td>\n",
       "    </tr>\n",
       "    <tr>\n",
       "      <th>min</th>\n",
       "      <td>2.000000e+00</td>\n",
       "      <td>1.000000e+00</td>\n",
       "      <td>1.000000e+00</td>\n",
       "      <td>0.000000e+00</td>\n",
       "      <td>0.000000e+00</td>\n",
       "      <td>0.000000e+00</td>\n",
       "      <td>1.000000e+00</td>\n",
       "      <td>1.000000e+00</td>\n",
       "      <td>0.000000e+00</td>\n",
       "      <td>1.000000e+00</td>\n",
       "      <td>1.000000e+00</td>\n",
       "      <td>1.000000e+00</td>\n",
       "    </tr>\n",
       "    <tr>\n",
       "      <th>25%</th>\n",
       "      <td>8.559470e+05</td>\n",
       "      <td>5.142200e+04</td>\n",
       "      <td>5.000000e+00</td>\n",
       "      <td>1.000000e+00</td>\n",
       "      <td>1.000000e+01</td>\n",
       "      <td>5.000000e+00</td>\n",
       "      <td>1.354400e+04</td>\n",
       "      <td>3.000000e+00</td>\n",
       "      <td>0.000000e+00</td>\n",
       "      <td>3.100000e+01</td>\n",
       "      <td>4.000000e+00</td>\n",
       "      <td>4.200000e+00</td>\n",
       "    </tr>\n",
       "    <tr>\n",
       "      <th>50%</th>\n",
       "      <td>1.711049e+06</td>\n",
       "      <td>1.026160e+05</td>\n",
       "      <td>1.100000e+01</td>\n",
       "      <td>3.000000e+00</td>\n",
       "      <td>1.300000e+01</td>\n",
       "      <td>8.000000e+00</td>\n",
       "      <td>2.530200e+04</td>\n",
       "      <td>6.000000e+00</td>\n",
       "      <td>1.000000e+00</td>\n",
       "      <td>8.300000e+01</td>\n",
       "      <td>9.000000e+00</td>\n",
       "      <td>7.400000e+00</td>\n",
       "    </tr>\n",
       "    <tr>\n",
       "      <th>75%</th>\n",
       "      <td>2.565499e+06</td>\n",
       "      <td>1.543890e+05</td>\n",
       "      <td>2.400000e+01</td>\n",
       "      <td>5.000000e+00</td>\n",
       "      <td>1.600000e+01</td>\n",
       "      <td>1.500000e+01</td>\n",
       "      <td>3.794700e+04</td>\n",
       "      <td>1.100000e+01</td>\n",
       "      <td>1.000000e+00</td>\n",
       "      <td>1.070000e+02</td>\n",
       "      <td>1.600000e+01</td>\n",
       "      <td>1.130000e+01</td>\n",
       "    </tr>\n",
       "    <tr>\n",
       "      <th>max</th>\n",
       "      <td>3.421083e+06</td>\n",
       "      <td>2.062090e+05</td>\n",
       "      <td>9.900000e+01</td>\n",
       "      <td>6.000000e+00</td>\n",
       "      <td>2.300000e+01</td>\n",
       "      <td>3.000000e+01</td>\n",
       "      <td>4.968800e+04</td>\n",
       "      <td>1.450000e+02</td>\n",
       "      <td>1.000000e+00</td>\n",
       "      <td>1.340000e+02</td>\n",
       "      <td>2.100000e+01</td>\n",
       "      <td>9.999900e+04</td>\n",
       "    </tr>\n",
       "  </tbody>\n",
       "</table>\n",
       "</div>"
      ],
      "text/plain": [
       "           order_id       user_id  order_number  orders_day_of_week  \\\n",
       "count  3.240486e+07  3.240486e+07  3.240486e+07        3.240486e+07   \n",
       "mean   1.710745e+06  1.029372e+05  1.714230e+01        2.738867e+00   \n",
       "std    9.872988e+05  5.946610e+04  1.753532e+01        2.090077e+00   \n",
       "min    2.000000e+00  1.000000e+00  1.000000e+00        0.000000e+00   \n",
       "25%    8.559470e+05  5.142200e+04  5.000000e+00        1.000000e+00   \n",
       "50%    1.711049e+06  1.026160e+05  1.100000e+01        3.000000e+00   \n",
       "75%    2.565499e+06  1.543890e+05  2.400000e+01        5.000000e+00   \n",
       "max    3.421083e+06  2.062090e+05  9.900000e+01        6.000000e+00   \n",
       "\n",
       "       order_hour_of_day  days_since_prior_order    product_id  \\\n",
       "count       3.240486e+07            3.032876e+07  3.240486e+07   \n",
       "mean        1.342515e+01            1.110408e+01  2.559866e+04   \n",
       "std         4.246380e+00            8.779064e+00  1.408400e+04   \n",
       "min         0.000000e+00            0.000000e+00  1.000000e+00   \n",
       "25%         1.000000e+01            5.000000e+00  1.354400e+04   \n",
       "50%         1.300000e+01            8.000000e+00  2.530200e+04   \n",
       "75%         1.600000e+01            1.500000e+01  3.794700e+04   \n",
       "max         2.300000e+01            3.000000e+01  4.968800e+04   \n",
       "\n",
       "       add_to_cart_order     reordered      aisle_id  department_id  \\\n",
       "count       3.240486e+07  3.240486e+07  3.240486e+07   3.240486e+07   \n",
       "mean        8.352547e+00  5.895873e-01  7.119612e+01   9.919792e+00   \n",
       "std         7.127071e+00  4.919087e-01  3.821139e+01   6.281485e+00   \n",
       "min         1.000000e+00  0.000000e+00  1.000000e+00   1.000000e+00   \n",
       "25%         3.000000e+00  0.000000e+00  3.100000e+01   4.000000e+00   \n",
       "50%         6.000000e+00  1.000000e+00  8.300000e+01   9.000000e+00   \n",
       "75%         1.100000e+01  1.000000e+00  1.070000e+02   1.600000e+01   \n",
       "max         1.450000e+02  1.000000e+00  1.340000e+02   2.100000e+01   \n",
       "\n",
       "             prices  \n",
       "count  3.240486e+07  \n",
       "mean   1.198023e+01  \n",
       "std    4.956554e+02  \n",
       "min    1.000000e+00  \n",
       "25%    4.200000e+00  \n",
       "50%    7.400000e+00  \n",
       "75%    1.130000e+01  \n",
       "max    9.999900e+04  "
      ]
     },
     "execution_count": 14,
     "metadata": {},
     "output_type": "execute_result"
    }
   ],
   "source": [
    "# Descriptive statistics of orders_products_merged dataset\n",
    "\n",
    "df_orders_products_merged.describe()"
   ]
  },
  {
   "cell_type": "markdown",
   "id": "62654a47",
   "metadata": {},
   "source": [
    "# If-Statements with User-Defined Functions"
   ]
  },
  {
   "cell_type": "markdown",
   "id": "aabf55b4",
   "metadata": {},
   "source": [
    "## 05. Sort products into price ranges"
   ]
  },
  {
   "cell_type": "code",
   "execution_count": 15,
   "id": "ad6d1938",
   "metadata": {},
   "outputs": [],
   "source": [
    "# Defining a function called price_label to use in dataframe to assign range to each row\n",
    "\n",
    "def price_label(row):\n",
    "\n",
    "  if row['prices'] <= 5:\n",
    "    return 'Low-range product'\n",
    "  elif (row['prices'] > 5) and (row['prices'] <= 15):\n",
    "    return 'Mid-range product'\n",
    "  elif row['prices'] > 15:\n",
    "    return 'High range'\n",
    "  else: return 'Not enough data'"
   ]
  },
  {
   "cell_type": "code",
   "execution_count": 16,
   "id": "28cc8559",
   "metadata": {},
   "outputs": [
    {
     "name": "stderr",
     "output_type": "stream",
     "text": [
      "/var/folders/bt/ybn6h09d7fl28vt1p63pdy480000gn/T/ipykernel_5452/351835174.py:3: SettingWithCopyWarning: \n",
      "A value is trying to be set on a copy of a slice from a DataFrame.\n",
      "Try using .loc[row_indexer,col_indexer] = value instead\n",
      "\n",
      "See the caveats in the documentation: https://pandas.pydata.org/pandas-docs/stable/user_guide/indexing.html#returning-a-view-versus-a-copy\n",
      "  df['price_range'] = df.apply(price_label, axis=1)\n"
     ]
    }
   ],
   "source": [
    "# Applying the function; Assign flag by applying defined function price_label to dataframe \n",
    "\n",
    "df['price_range'] = df.apply(price_label, axis=1)"
   ]
  },
  {
   "cell_type": "code",
   "execution_count": 17,
   "id": "5cacc5d9",
   "metadata": {},
   "outputs": [
    {
     "data": {
      "text/plain": [
       "Mid-range product    756450\n",
       "Low-range product    243550\n",
       "Name: price_range, dtype: int64"
      ]
     },
     "execution_count": 17,
     "metadata": {},
     "output_type": "execute_result"
    }
   ],
   "source": [
    "# Check value counts of new column price_range\n",
    "\n",
    "df['price_range'].value_counts(dropna = False)"
   ]
  },
  {
   "cell_type": "code",
   "execution_count": null,
   "id": "b38d7516",
   "metadata": {},
   "outputs": [],
   "source": [
    "## Note: No products in the first 1000000 rows exceeds $15"
   ]
  },
  {
   "cell_type": "code",
   "execution_count": 19,
   "id": "e4640cca",
   "metadata": {},
   "outputs": [
    {
     "data": {
      "text/plain": [
       "14.8"
      ]
     },
     "execution_count": 19,
     "metadata": {},
     "output_type": "execute_result"
    }
   ],
   "source": [
    "# Check the value of most expensive product within subset\n",
    "\n",
    "df['prices'].max()"
   ]
  },
  {
   "cell_type": "markdown",
   "id": "28865115",
   "metadata": {},
   "source": [
    "# If-Statements with the loc() Function"
   ]
  },
  {
   "cell_type": "markdown",
   "id": "6400adc1",
   "metadata": {},
   "source": [
    "## 06. Sort products into price ranges"
   ]
  },
  {
   "cell_type": "code",
   "execution_count": null,
   "id": "bcb85aa6",
   "metadata": {},
   "outputs": [],
   "source": [
    "# Using loc() to apply the conditional logic of an if-statement to a function without creating an if-else construct\n",
    "## Each condition per cell"
   ]
  },
  {
   "cell_type": "code",
   "execution_count": 21,
   "id": "f2a28c5a",
   "metadata": {},
   "outputs": [],
   "source": [
    "df_orders_products_merged.loc[df_orders_products_merged['prices'] > 15, 'price_range_loc'] = 'High-range product'"
   ]
  },
  {
   "cell_type": "code",
   "execution_count": 23,
   "id": "864f4a5d",
   "metadata": {},
   "outputs": [],
   "source": [
    "df_orders_products_merged.loc[(df_orders_products_merged['prices'] <= 15) & (df_orders_products_merged['prices'] > 5), 'price_range_loc'] = 'Mid-range product' "
   ]
  },
  {
   "cell_type": "code",
   "execution_count": 24,
   "id": "8b958e3f",
   "metadata": {},
   "outputs": [],
   "source": [
    "df_orders_products_merged.loc[df_orders_products_merged['prices'] <= 5, 'price_range_loc'] = 'Low-range product'"
   ]
  },
  {
   "cell_type": "code",
   "execution_count": 26,
   "id": "eb16f08f",
   "metadata": {},
   "outputs": [
    {
     "data": {
      "text/plain": [
       "Mid-range product     21860860\n",
       "Low-range product     10126321\n",
       "High-range product      417678\n",
       "Name: price_range_loc, dtype: int64"
      ]
     },
     "execution_count": 26,
     "metadata": {},
     "output_type": "execute_result"
    }
   ],
   "source": [
    "# Check frequency; value counts of new column price_range\n",
    "\n",
    "df_orders_products_merged['price_range_loc'].value_counts(dropna = False)"
   ]
  },
  {
   "cell_type": "markdown",
   "id": "783cb749",
   "metadata": {},
   "source": [
    "# If-Statements with For-Loops"
   ]
  },
  {
   "cell_type": "markdown",
   "id": "7462a947",
   "metadata": {},
   "source": [
    "## 07. Insight into what products are being bought on the busiest and slowest day"
   ]
  },
  {
   "cell_type": "code",
   "execution_count": 28,
   "id": "8ec164ba",
   "metadata": {},
   "outputs": [
    {
     "data": {
      "text/plain": [
       "0    6204182\n",
       "1    5660230\n",
       "6    4496490\n",
       "2    4213830\n",
       "5    4205791\n",
       "3    3840534\n",
       "4    3783802\n",
       "Name: orders_day_of_week, dtype: int64"
      ]
     },
     "execution_count": 28,
     "metadata": {},
     "output_type": "execute_result"
    }
   ],
   "source": [
    "# Summarize how busy each day of the week is\n",
    "## 1. Which day most orders take place\n",
    "\n",
    "df_orders_products_merged['orders_day_of_week'].value_counts(dropna = False)"
   ]
  },
  {
   "cell_type": "code",
   "execution_count": null,
   "id": "f551d4d1",
   "metadata": {},
   "outputs": [],
   "source": [
    "## Note: Day of week correspond to the following number\n",
    "###  0 = Saturday to 6 = Friday"
   ]
  },
  {
   "cell_type": "code",
   "execution_count": 29,
   "id": "6e5fcd7f",
   "metadata": {},
   "outputs": [],
   "source": [
    "# Create a new column 'busiest_day' organizing traffic for each day of the week with three different values\n",
    "\n",
    "result = []\n",
    "\n",
    "for value in df_orders_products_merged[\"orders_day_of_week\"]:\n",
    "  if value == 0:\n",
    "    result.append(\"Busiest day\")\n",
    "  elif value == 4:\n",
    "    result.append(\"Least busy\")\n",
    "  else:\n",
    "    result.append(\"Regularly busy\")"
   ]
  },
  {
   "cell_type": "code",
   "execution_count": 32,
   "id": "4a900a52",
   "metadata": {},
   "outputs": [],
   "source": [
    "# Applying the function (results of list); Create new column in df_orders_products_merged database to view traffic per day\n",
    "\n",
    "df_orders_products_merged['busiest_day'] = result"
   ]
  },
  {
   "cell_type": "code",
   "execution_count": 33,
   "id": "65886cce",
   "metadata": {},
   "outputs": [
    {
     "data": {
      "text/plain": [
       "Regularly busy    22416875\n",
       "Busiest day        6204182\n",
       "Least busy         3783802\n",
       "Name: busiest_day, dtype: int64"
      ]
     },
     "execution_count": 33,
     "metadata": {},
     "output_type": "execute_result"
    }
   ],
   "source": [
    "# Check frequency; value counts of new column busiest day\n",
    "\n",
    "df_orders_products_merged['busiest_day'].value_counts(dropna = False)"
   ]
  },
  {
   "cell_type": "code",
   "execution_count": 34,
   "id": "b57c811a",
   "metadata": {},
   "outputs": [
    {
     "data": {
      "text/plain": [
       "(32404859, 17)"
      ]
     },
     "execution_count": 34,
     "metadata": {},
     "output_type": "execute_result"
    }
   ],
   "source": [
    "# Dimension check of orders_products_merged dataset\n",
    "\n",
    "df_orders_products_merged.shape"
   ]
  },
  {
   "cell_type": "markdown",
   "id": "9a935961",
   "metadata": {},
   "source": [
    "# Exercise 4.7"
   ]
  },
  {
   "cell_type": "code",
   "execution_count": null,
   "id": "708ab371",
   "metadata": {},
   "outputs": [],
   "source": [
    "# 4.7.2 Client update: \n",
    "## 1. Change “Busiest day” to become “Busiest days” with top two busiest days \n",
    "## 2. Change \"Lease busy\" to \"Slowest days\" with the bottow two lease busy days "
   ]
  },
  {
   "cell_type": "code",
   "execution_count": 35,
   "id": "956c2ec8",
   "metadata": {},
   "outputs": [],
   "source": [
    "# Create a new column 'busiest_days' organizing traffic for each day of the week with three different values.\n",
    "\n",
    "resultchange = []\n",
    "\n",
    "for value in df_orders_products_merged[\"orders_day_of_week\"]:\n",
    "  if value == 0 or value == 1:\n",
    "    resultchange.append(\"Busiest days\")\n",
    "  elif value == 3 or value == 4:\n",
    "    resultchange.append(\"Slowest days\")\n",
    "  else:\n",
    "    resultchange.append(\"Regularly busy\")"
   ]
  },
  {
   "cell_type": "code",
   "execution_count": 36,
   "id": "a592d5e1",
   "metadata": {},
   "outputs": [],
   "source": [
    "# Applying the function (results of changed list); Create new column in df_orders_products_merged database to view traffic per day\n",
    "\n",
    "df_orders_products_merged['busiest_days'] = resultchange"
   ]
  },
  {
   "cell_type": "code",
   "execution_count": 37,
   "id": "879170ac",
   "metadata": {},
   "outputs": [
    {
     "data": {
      "text/plain": [
       "Regularly busy    12916111\n",
       "Busiest days      11864412\n",
       "Slowest days       7624336\n",
       "Name: busiest_days, dtype: int64"
      ]
     },
     "execution_count": 37,
     "metadata": {},
     "output_type": "execute_result"
    }
   ],
   "source": [
    "# Check frequency; value counts of changed column busiest days\n",
    "\n",
    "df_orders_products_merged['busiest_days'].value_counts(dropna = False)"
   ]
  },
  {
   "cell_type": "code",
   "execution_count": 38,
   "id": "e41556fd",
   "metadata": {},
   "outputs": [
    {
     "data": {
      "text/html": [
       "<div>\n",
       "<style scoped>\n",
       "    .dataframe tbody tr th:only-of-type {\n",
       "        vertical-align: middle;\n",
       "    }\n",
       "\n",
       "    .dataframe tbody tr th {\n",
       "        vertical-align: top;\n",
       "    }\n",
       "\n",
       "    .dataframe thead th {\n",
       "        text-align: right;\n",
       "    }\n",
       "</style>\n",
       "<table border=\"1\" class=\"dataframe\">\n",
       "  <thead>\n",
       "    <tr style=\"text-align: right;\">\n",
       "      <th></th>\n",
       "      <th>order_id</th>\n",
       "      <th>user_id</th>\n",
       "      <th>order_number</th>\n",
       "      <th>orders_day_of_week</th>\n",
       "      <th>order_hour_of_day</th>\n",
       "      <th>days_since_prior_order</th>\n",
       "      <th>product_id</th>\n",
       "      <th>add_to_cart_order</th>\n",
       "      <th>reordered</th>\n",
       "      <th>product_name</th>\n",
       "      <th>aisle_id</th>\n",
       "      <th>department_id</th>\n",
       "      <th>prices</th>\n",
       "      <th>_merge</th>\n",
       "      <th>price_range_loc</th>\n",
       "      <th>busiest day</th>\n",
       "      <th>busiest_day</th>\n",
       "      <th>busiest_days</th>\n",
       "    </tr>\n",
       "  </thead>\n",
       "  <tbody>\n",
       "    <tr>\n",
       "      <th>0</th>\n",
       "      <td>2539329</td>\n",
       "      <td>1</td>\n",
       "      <td>1</td>\n",
       "      <td>2</td>\n",
       "      <td>8</td>\n",
       "      <td>NaN</td>\n",
       "      <td>196</td>\n",
       "      <td>1</td>\n",
       "      <td>0</td>\n",
       "      <td>Soda</td>\n",
       "      <td>77</td>\n",
       "      <td>7</td>\n",
       "      <td>9.0</td>\n",
       "      <td>both</td>\n",
       "      <td>Mid-range product</td>\n",
       "      <td>Regularly busy</td>\n",
       "      <td>Regularly busy</td>\n",
       "      <td>Regularly busy</td>\n",
       "    </tr>\n",
       "    <tr>\n",
       "      <th>1</th>\n",
       "      <td>2398795</td>\n",
       "      <td>1</td>\n",
       "      <td>2</td>\n",
       "      <td>3</td>\n",
       "      <td>7</td>\n",
       "      <td>15.0</td>\n",
       "      <td>196</td>\n",
       "      <td>1</td>\n",
       "      <td>1</td>\n",
       "      <td>Soda</td>\n",
       "      <td>77</td>\n",
       "      <td>7</td>\n",
       "      <td>9.0</td>\n",
       "      <td>both</td>\n",
       "      <td>Mid-range product</td>\n",
       "      <td>Regularly busy</td>\n",
       "      <td>Regularly busy</td>\n",
       "      <td>Slowest days</td>\n",
       "    </tr>\n",
       "    <tr>\n",
       "      <th>2</th>\n",
       "      <td>473747</td>\n",
       "      <td>1</td>\n",
       "      <td>3</td>\n",
       "      <td>3</td>\n",
       "      <td>12</td>\n",
       "      <td>21.0</td>\n",
       "      <td>196</td>\n",
       "      <td>1</td>\n",
       "      <td>1</td>\n",
       "      <td>Soda</td>\n",
       "      <td>77</td>\n",
       "      <td>7</td>\n",
       "      <td>9.0</td>\n",
       "      <td>both</td>\n",
       "      <td>Mid-range product</td>\n",
       "      <td>Regularly busy</td>\n",
       "      <td>Regularly busy</td>\n",
       "      <td>Slowest days</td>\n",
       "    </tr>\n",
       "    <tr>\n",
       "      <th>3</th>\n",
       "      <td>2254736</td>\n",
       "      <td>1</td>\n",
       "      <td>4</td>\n",
       "      <td>4</td>\n",
       "      <td>7</td>\n",
       "      <td>29.0</td>\n",
       "      <td>196</td>\n",
       "      <td>1</td>\n",
       "      <td>1</td>\n",
       "      <td>Soda</td>\n",
       "      <td>77</td>\n",
       "      <td>7</td>\n",
       "      <td>9.0</td>\n",
       "      <td>both</td>\n",
       "      <td>Mid-range product</td>\n",
       "      <td>Least busy</td>\n",
       "      <td>Least busy</td>\n",
       "      <td>Slowest days</td>\n",
       "    </tr>\n",
       "    <tr>\n",
       "      <th>4</th>\n",
       "      <td>431534</td>\n",
       "      <td>1</td>\n",
       "      <td>5</td>\n",
       "      <td>4</td>\n",
       "      <td>15</td>\n",
       "      <td>28.0</td>\n",
       "      <td>196</td>\n",
       "      <td>1</td>\n",
       "      <td>1</td>\n",
       "      <td>Soda</td>\n",
       "      <td>77</td>\n",
       "      <td>7</td>\n",
       "      <td>9.0</td>\n",
       "      <td>both</td>\n",
       "      <td>Mid-range product</td>\n",
       "      <td>Least busy</td>\n",
       "      <td>Least busy</td>\n",
       "      <td>Slowest days</td>\n",
       "    </tr>\n",
       "  </tbody>\n",
       "</table>\n",
       "</div>"
      ],
      "text/plain": [
       "   order_id  user_id  order_number  orders_day_of_week  order_hour_of_day  \\\n",
       "0   2539329        1             1                   2                  8   \n",
       "1   2398795        1             2                   3                  7   \n",
       "2    473747        1             3                   3                 12   \n",
       "3   2254736        1             4                   4                  7   \n",
       "4    431534        1             5                   4                 15   \n",
       "\n",
       "   days_since_prior_order  product_id  add_to_cart_order  reordered  \\\n",
       "0                     NaN         196                  1          0   \n",
       "1                    15.0         196                  1          1   \n",
       "2                    21.0         196                  1          1   \n",
       "3                    29.0         196                  1          1   \n",
       "4                    28.0         196                  1          1   \n",
       "\n",
       "  product_name  aisle_id  department_id  prices _merge    price_range_loc  \\\n",
       "0         Soda        77              7     9.0   both  Mid-range product   \n",
       "1         Soda        77              7     9.0   both  Mid-range product   \n",
       "2         Soda        77              7     9.0   both  Mid-range product   \n",
       "3         Soda        77              7     9.0   both  Mid-range product   \n",
       "4         Soda        77              7     9.0   both  Mid-range product   \n",
       "\n",
       "      busiest day     busiest_day    busiest_days  \n",
       "0  Regularly busy  Regularly busy  Regularly busy  \n",
       "1  Regularly busy  Regularly busy    Slowest days  \n",
       "2  Regularly busy  Regularly busy    Slowest days  \n",
       "3      Least busy      Least busy    Slowest days  \n",
       "4      Least busy      Least busy    Slowest days  "
      ]
     },
     "execution_count": 38,
     "metadata": {},
     "output_type": "execute_result"
    }
   ],
   "source": [
    "# Check first five rows of orders_products_merged dataset\n",
    "\n",
    "df_orders_products_merged.head()"
   ]
  },
  {
   "cell_type": "code",
   "execution_count": 39,
   "id": "0865f5ea",
   "metadata": {},
   "outputs": [],
   "source": [
    "# Dropping 'busiest day' column as it is a duplicate renamed in dataframe\n",
    "\n",
    "df_orders_products_merged = df_orders_products_merged.drop(columns = ['busiest day'])"
   ]
  },
  {
   "cell_type": "code",
   "execution_count": 40,
   "id": "f25e63ff",
   "metadata": {},
   "outputs": [
    {
     "data": {
      "text/html": [
       "<div>\n",
       "<style scoped>\n",
       "    .dataframe tbody tr th:only-of-type {\n",
       "        vertical-align: middle;\n",
       "    }\n",
       "\n",
       "    .dataframe tbody tr th {\n",
       "        vertical-align: top;\n",
       "    }\n",
       "\n",
       "    .dataframe thead th {\n",
       "        text-align: right;\n",
       "    }\n",
       "</style>\n",
       "<table border=\"1\" class=\"dataframe\">\n",
       "  <thead>\n",
       "    <tr style=\"text-align: right;\">\n",
       "      <th></th>\n",
       "      <th>order_id</th>\n",
       "      <th>user_id</th>\n",
       "      <th>order_number</th>\n",
       "      <th>orders_day_of_week</th>\n",
       "      <th>order_hour_of_day</th>\n",
       "      <th>days_since_prior_order</th>\n",
       "      <th>product_id</th>\n",
       "      <th>add_to_cart_order</th>\n",
       "      <th>reordered</th>\n",
       "      <th>product_name</th>\n",
       "      <th>aisle_id</th>\n",
       "      <th>department_id</th>\n",
       "      <th>prices</th>\n",
       "      <th>_merge</th>\n",
       "      <th>price_range_loc</th>\n",
       "      <th>busiest_day</th>\n",
       "      <th>busiest_days</th>\n",
       "    </tr>\n",
       "  </thead>\n",
       "  <tbody>\n",
       "    <tr>\n",
       "      <th>0</th>\n",
       "      <td>2539329</td>\n",
       "      <td>1</td>\n",
       "      <td>1</td>\n",
       "      <td>2</td>\n",
       "      <td>8</td>\n",
       "      <td>NaN</td>\n",
       "      <td>196</td>\n",
       "      <td>1</td>\n",
       "      <td>0</td>\n",
       "      <td>Soda</td>\n",
       "      <td>77</td>\n",
       "      <td>7</td>\n",
       "      <td>9.0</td>\n",
       "      <td>both</td>\n",
       "      <td>Mid-range product</td>\n",
       "      <td>Regularly busy</td>\n",
       "      <td>Regularly busy</td>\n",
       "    </tr>\n",
       "    <tr>\n",
       "      <th>1</th>\n",
       "      <td>2398795</td>\n",
       "      <td>1</td>\n",
       "      <td>2</td>\n",
       "      <td>3</td>\n",
       "      <td>7</td>\n",
       "      <td>15.0</td>\n",
       "      <td>196</td>\n",
       "      <td>1</td>\n",
       "      <td>1</td>\n",
       "      <td>Soda</td>\n",
       "      <td>77</td>\n",
       "      <td>7</td>\n",
       "      <td>9.0</td>\n",
       "      <td>both</td>\n",
       "      <td>Mid-range product</td>\n",
       "      <td>Regularly busy</td>\n",
       "      <td>Slowest days</td>\n",
       "    </tr>\n",
       "    <tr>\n",
       "      <th>2</th>\n",
       "      <td>473747</td>\n",
       "      <td>1</td>\n",
       "      <td>3</td>\n",
       "      <td>3</td>\n",
       "      <td>12</td>\n",
       "      <td>21.0</td>\n",
       "      <td>196</td>\n",
       "      <td>1</td>\n",
       "      <td>1</td>\n",
       "      <td>Soda</td>\n",
       "      <td>77</td>\n",
       "      <td>7</td>\n",
       "      <td>9.0</td>\n",
       "      <td>both</td>\n",
       "      <td>Mid-range product</td>\n",
       "      <td>Regularly busy</td>\n",
       "      <td>Slowest days</td>\n",
       "    </tr>\n",
       "    <tr>\n",
       "      <th>3</th>\n",
       "      <td>2254736</td>\n",
       "      <td>1</td>\n",
       "      <td>4</td>\n",
       "      <td>4</td>\n",
       "      <td>7</td>\n",
       "      <td>29.0</td>\n",
       "      <td>196</td>\n",
       "      <td>1</td>\n",
       "      <td>1</td>\n",
       "      <td>Soda</td>\n",
       "      <td>77</td>\n",
       "      <td>7</td>\n",
       "      <td>9.0</td>\n",
       "      <td>both</td>\n",
       "      <td>Mid-range product</td>\n",
       "      <td>Least busy</td>\n",
       "      <td>Slowest days</td>\n",
       "    </tr>\n",
       "    <tr>\n",
       "      <th>4</th>\n",
       "      <td>431534</td>\n",
       "      <td>1</td>\n",
       "      <td>5</td>\n",
       "      <td>4</td>\n",
       "      <td>15</td>\n",
       "      <td>28.0</td>\n",
       "      <td>196</td>\n",
       "      <td>1</td>\n",
       "      <td>1</td>\n",
       "      <td>Soda</td>\n",
       "      <td>77</td>\n",
       "      <td>7</td>\n",
       "      <td>9.0</td>\n",
       "      <td>both</td>\n",
       "      <td>Mid-range product</td>\n",
       "      <td>Least busy</td>\n",
       "      <td>Slowest days</td>\n",
       "    </tr>\n",
       "  </tbody>\n",
       "</table>\n",
       "</div>"
      ],
      "text/plain": [
       "   order_id  user_id  order_number  orders_day_of_week  order_hour_of_day  \\\n",
       "0   2539329        1             1                   2                  8   \n",
       "1   2398795        1             2                   3                  7   \n",
       "2    473747        1             3                   3                 12   \n",
       "3   2254736        1             4                   4                  7   \n",
       "4    431534        1             5                   4                 15   \n",
       "\n",
       "   days_since_prior_order  product_id  add_to_cart_order  reordered  \\\n",
       "0                     NaN         196                  1          0   \n",
       "1                    15.0         196                  1          1   \n",
       "2                    21.0         196                  1          1   \n",
       "3                    29.0         196                  1          1   \n",
       "4                    28.0         196                  1          1   \n",
       "\n",
       "  product_name  aisle_id  department_id  prices _merge    price_range_loc  \\\n",
       "0         Soda        77              7     9.0   both  Mid-range product   \n",
       "1         Soda        77              7     9.0   both  Mid-range product   \n",
       "2         Soda        77              7     9.0   both  Mid-range product   \n",
       "3         Soda        77              7     9.0   both  Mid-range product   \n",
       "4         Soda        77              7     9.0   both  Mid-range product   \n",
       "\n",
       "      busiest_day    busiest_days  \n",
       "0  Regularly busy  Regularly busy  \n",
       "1  Regularly busy    Slowest days  \n",
       "2  Regularly busy    Slowest days  \n",
       "3      Least busy    Slowest days  \n",
       "4      Least busy    Slowest days  "
      ]
     },
     "execution_count": 40,
     "metadata": {},
     "output_type": "execute_result"
    }
   ],
   "source": [
    "# Recheck first five rows of orders_products_merged dataset\n",
    "\n",
    "df_orders_products_merged.head()"
   ]
  },
  {
   "cell_type": "code",
   "execution_count": 41,
   "id": "1feeaa56",
   "metadata": {},
   "outputs": [
    {
     "data": {
      "text/plain": [
       "(32404859, 17)"
      ]
     },
     "execution_count": 41,
     "metadata": {},
     "output_type": "execute_result"
    }
   ],
   "source": [
    "# Dimension check of orders_products_merged dataset\n",
    "\n",
    "df_orders_products_merged.shape"
   ]
  },
  {
   "cell_type": "code",
   "execution_count": null,
   "id": "a5658904",
   "metadata": {},
   "outputs": [],
   "source": [
    "## The weekend (Saturday and Sunday) are the busiest days of the week while Tuesday and Wednesday are the slowest. "
   ]
  },
  {
   "cell_type": "code",
   "execution_count": null,
   "id": "b3966730",
   "metadata": {},
   "outputs": [],
   "source": [
    "# 4.7.4 Identify the busiest hours of the day to identify potential high traffic which is freezing Instacart App\n",
    "## Group periods of time “Most orders,” “Average orders,” and “Fewest orders\" into column “busiest_period_of_day”"
   ]
  },
  {
   "cell_type": "code",
   "execution_count": 42,
   "id": "11946f7f",
   "metadata": {},
   "outputs": [
    {
     "data": {
      "text/plain": [
       "10    2761760\n",
       "11    2736140\n",
       "14    2689136\n",
       "15    2662144\n",
       "13    2660954\n",
       "12    2618532\n",
       "16    2535202\n",
       "9     2454203\n",
       "17    2087654\n",
       "8     1718118\n",
       "18    1636502\n",
       "19    1258305\n",
       "20     976156\n",
       "7      891054\n",
       "21     795637\n",
       "22     634225\n",
       "23     402316\n",
       "6      290493\n",
       "0      218769\n",
       "1      115700\n",
       "5       87961\n",
       "2       69375\n",
       "4       53242\n",
       "3       51281\n",
       "Name: order_hour_of_day, dtype: int64"
      ]
     },
     "execution_count": 42,
     "metadata": {},
     "output_type": "execute_result"
    }
   ],
   "source": [
    "### 1. Determine which order_hour_of_day is high, average and low  \n",
    "\n",
    "df_orders_products_merged['order_hour_of_day'].value_counts(dropna = False)"
   ]
  },
  {
   "cell_type": "code",
   "execution_count": 44,
   "id": "95a7094e",
   "metadata": {},
   "outputs": [],
   "source": [
    "# Create a new column 'busiest_period_of_day' organizing high traffic hours in a day with three different values.\n",
    "\n",
    "resulthours = []\n",
    "\n",
    "for value in df_orders_products_merged[\"order_hour_of_day\"]:\n",
    "  if value in [10, 11, 14, 15, 13, 12, 16, 9]:\n",
    "    resulthours.append(\"Most orders\")\n",
    "  elif value in [23, 6, 0, 1, 5, 2, 4, 3]:\n",
    "    resulthours.append(\"Fewest orders\")\n",
    "  else:\n",
    "    resulthours.append(\"Average Days\")"
   ]
  },
  {
   "cell_type": "code",
   "execution_count": 45,
   "id": "981f0c49",
   "metadata": {},
   "outputs": [],
   "source": [
    "# Applying the function (results of list); Create new column in df_orders_products_merged database to view busiest time for orders during day\n",
    "\n",
    "df_orders_products_merged['busiest_period_of_day'] = resulthours"
   ]
  },
  {
   "cell_type": "code",
   "execution_count": 46,
   "id": "543035ca",
   "metadata": {},
   "outputs": [
    {
     "data": {
      "text/plain": [
       "Most orders      21118071\n",
       "Average Days      9997651\n",
       "Fewest orders     1289137\n",
       "Name: busiest_period_of_day, dtype: int64"
      ]
     },
     "execution_count": 46,
     "metadata": {},
     "output_type": "execute_result"
    }
   ],
   "source": [
    "# Check frequency; value counts of changed column busiest period of day\n",
    "\n",
    "df_orders_products_merged['busiest_period_of_day'].value_counts(dropna = False)"
   ]
  },
  {
   "cell_type": "code",
   "execution_count": 47,
   "id": "aa0b31d3",
   "metadata": {},
   "outputs": [
    {
     "data": {
      "text/html": [
       "<div>\n",
       "<style scoped>\n",
       "    .dataframe tbody tr th:only-of-type {\n",
       "        vertical-align: middle;\n",
       "    }\n",
       "\n",
       "    .dataframe tbody tr th {\n",
       "        vertical-align: top;\n",
       "    }\n",
       "\n",
       "    .dataframe thead th {\n",
       "        text-align: right;\n",
       "    }\n",
       "</style>\n",
       "<table border=\"1\" class=\"dataframe\">\n",
       "  <thead>\n",
       "    <tr style=\"text-align: right;\">\n",
       "      <th></th>\n",
       "      <th>order_id</th>\n",
       "      <th>user_id</th>\n",
       "      <th>order_number</th>\n",
       "      <th>orders_day_of_week</th>\n",
       "      <th>order_hour_of_day</th>\n",
       "      <th>days_since_prior_order</th>\n",
       "      <th>product_id</th>\n",
       "      <th>add_to_cart_order</th>\n",
       "      <th>reordered</th>\n",
       "      <th>product_name</th>\n",
       "      <th>aisle_id</th>\n",
       "      <th>department_id</th>\n",
       "      <th>prices</th>\n",
       "      <th>_merge</th>\n",
       "      <th>price_range_loc</th>\n",
       "      <th>busiest_day</th>\n",
       "      <th>busiest_days</th>\n",
       "      <th>busiest_period_of_day</th>\n",
       "    </tr>\n",
       "  </thead>\n",
       "  <tbody>\n",
       "    <tr>\n",
       "      <th>0</th>\n",
       "      <td>2539329</td>\n",
       "      <td>1</td>\n",
       "      <td>1</td>\n",
       "      <td>2</td>\n",
       "      <td>8</td>\n",
       "      <td>NaN</td>\n",
       "      <td>196</td>\n",
       "      <td>1</td>\n",
       "      <td>0</td>\n",
       "      <td>Soda</td>\n",
       "      <td>77</td>\n",
       "      <td>7</td>\n",
       "      <td>9.0</td>\n",
       "      <td>both</td>\n",
       "      <td>Mid-range product</td>\n",
       "      <td>Regularly busy</td>\n",
       "      <td>Regularly busy</td>\n",
       "      <td>Average Days</td>\n",
       "    </tr>\n",
       "    <tr>\n",
       "      <th>1</th>\n",
       "      <td>2398795</td>\n",
       "      <td>1</td>\n",
       "      <td>2</td>\n",
       "      <td>3</td>\n",
       "      <td>7</td>\n",
       "      <td>15.0</td>\n",
       "      <td>196</td>\n",
       "      <td>1</td>\n",
       "      <td>1</td>\n",
       "      <td>Soda</td>\n",
       "      <td>77</td>\n",
       "      <td>7</td>\n",
       "      <td>9.0</td>\n",
       "      <td>both</td>\n",
       "      <td>Mid-range product</td>\n",
       "      <td>Regularly busy</td>\n",
       "      <td>Slowest days</td>\n",
       "      <td>Average Days</td>\n",
       "    </tr>\n",
       "    <tr>\n",
       "      <th>2</th>\n",
       "      <td>473747</td>\n",
       "      <td>1</td>\n",
       "      <td>3</td>\n",
       "      <td>3</td>\n",
       "      <td>12</td>\n",
       "      <td>21.0</td>\n",
       "      <td>196</td>\n",
       "      <td>1</td>\n",
       "      <td>1</td>\n",
       "      <td>Soda</td>\n",
       "      <td>77</td>\n",
       "      <td>7</td>\n",
       "      <td>9.0</td>\n",
       "      <td>both</td>\n",
       "      <td>Mid-range product</td>\n",
       "      <td>Regularly busy</td>\n",
       "      <td>Slowest days</td>\n",
       "      <td>Most orders</td>\n",
       "    </tr>\n",
       "    <tr>\n",
       "      <th>3</th>\n",
       "      <td>2254736</td>\n",
       "      <td>1</td>\n",
       "      <td>4</td>\n",
       "      <td>4</td>\n",
       "      <td>7</td>\n",
       "      <td>29.0</td>\n",
       "      <td>196</td>\n",
       "      <td>1</td>\n",
       "      <td>1</td>\n",
       "      <td>Soda</td>\n",
       "      <td>77</td>\n",
       "      <td>7</td>\n",
       "      <td>9.0</td>\n",
       "      <td>both</td>\n",
       "      <td>Mid-range product</td>\n",
       "      <td>Least busy</td>\n",
       "      <td>Slowest days</td>\n",
       "      <td>Average Days</td>\n",
       "    </tr>\n",
       "    <tr>\n",
       "      <th>4</th>\n",
       "      <td>431534</td>\n",
       "      <td>1</td>\n",
       "      <td>5</td>\n",
       "      <td>4</td>\n",
       "      <td>15</td>\n",
       "      <td>28.0</td>\n",
       "      <td>196</td>\n",
       "      <td>1</td>\n",
       "      <td>1</td>\n",
       "      <td>Soda</td>\n",
       "      <td>77</td>\n",
       "      <td>7</td>\n",
       "      <td>9.0</td>\n",
       "      <td>both</td>\n",
       "      <td>Mid-range product</td>\n",
       "      <td>Least busy</td>\n",
       "      <td>Slowest days</td>\n",
       "      <td>Most orders</td>\n",
       "    </tr>\n",
       "  </tbody>\n",
       "</table>\n",
       "</div>"
      ],
      "text/plain": [
       "   order_id  user_id  order_number  orders_day_of_week  order_hour_of_day  \\\n",
       "0   2539329        1             1                   2                  8   \n",
       "1   2398795        1             2                   3                  7   \n",
       "2    473747        1             3                   3                 12   \n",
       "3   2254736        1             4                   4                  7   \n",
       "4    431534        1             5                   4                 15   \n",
       "\n",
       "   days_since_prior_order  product_id  add_to_cart_order  reordered  \\\n",
       "0                     NaN         196                  1          0   \n",
       "1                    15.0         196                  1          1   \n",
       "2                    21.0         196                  1          1   \n",
       "3                    29.0         196                  1          1   \n",
       "4                    28.0         196                  1          1   \n",
       "\n",
       "  product_name  aisle_id  department_id  prices _merge    price_range_loc  \\\n",
       "0         Soda        77              7     9.0   both  Mid-range product   \n",
       "1         Soda        77              7     9.0   both  Mid-range product   \n",
       "2         Soda        77              7     9.0   both  Mid-range product   \n",
       "3         Soda        77              7     9.0   both  Mid-range product   \n",
       "4         Soda        77              7     9.0   both  Mid-range product   \n",
       "\n",
       "      busiest_day    busiest_days busiest_period_of_day  \n",
       "0  Regularly busy  Regularly busy          Average Days  \n",
       "1  Regularly busy    Slowest days          Average Days  \n",
       "2  Regularly busy    Slowest days           Most orders  \n",
       "3      Least busy    Slowest days          Average Days  \n",
       "4      Least busy    Slowest days           Most orders  "
      ]
     },
     "execution_count": 47,
     "metadata": {},
     "output_type": "execute_result"
    }
   ],
   "source": [
    "# Check first five rows of orders_products_merged dataset\n",
    "\n",
    "df_orders_products_merged.head()"
   ]
  },
  {
   "cell_type": "code",
   "execution_count": 48,
   "id": "48bfc961",
   "metadata": {},
   "outputs": [
    {
     "data": {
      "text/plain": [
       "(32404859, 18)"
      ]
     },
     "execution_count": 48,
     "metadata": {},
     "output_type": "execute_result"
    }
   ],
   "source": [
    "# Dimension check of orders_products_merged dataset\n",
    "\n",
    "df_orders_products_merged.shape"
   ]
  },
  {
   "cell_type": "markdown",
   "id": "15ced8f1",
   "metadata": {},
   "source": [
    "## 08. Exporting Dataframe"
   ]
  },
  {
   "cell_type": "code",
   "execution_count": 49,
   "id": "0e2523a8",
   "metadata": {},
   "outputs": [],
   "source": [
    "# Exporting dataframe df_orders_products_merged as orders_products_merged_update\n",
    "\n",
    "df_orders_products_merged.to_pickle(os.path.join(path, 'Data','Prepared Data', 'orders_products_merged_update.pkl'))"
   ]
  }
 ],
 "metadata": {
  "kernelspec": {
   "display_name": "Python 3 (ipykernel)",
   "language": "python",
   "name": "python3"
  },
  "language_info": {
   "codemirror_mode": {
    "name": "ipython",
    "version": 3
   },
   "file_extension": ".py",
   "mimetype": "text/x-python",
   "name": "python",
   "nbconvert_exporter": "python",
   "pygments_lexer": "ipython3",
   "version": "3.9.13"
  }
 },
 "nbformat": 4,
 "nbformat_minor": 5
}
